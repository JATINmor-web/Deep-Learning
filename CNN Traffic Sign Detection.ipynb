{
  "nbformat": 4,
  "nbformat_minor": 0,
  "metadata": {
    "colab": {
      "name": "CNN_TrafficSignDetection.ipynb",
      "provenance": [],
      "collapsed_sections": []
    },
    "kernelspec": {
      "name": "python3",
      "display_name": "Python 3"
    },
    "language_info": {
      "name": "python"
    }
  },
  "cells": [
    {
      "cell_type": "code",
      "metadata": {
        "colab": {
          "base_uri": "https://localhost:8080/"
        },
        "id": "PWUlitqVK4K5",
        "outputId": "34bc2b5d-4523-412d-8c54-85d4154edee9"
      },
      "source": [
        " import os\n",
        "\n",
        "os.environ['KAGGLE_USERNAME'] = 'brainmentors'\n",
        "os.environ['KAGGLE_KEY'] = '338041484874c1bb492dd5fe1f133e1e'\n",
        "\n",
        "!kaggle datasets download -d meowmeowmeowmeowmeow/gtsrb-german-traffic-sign"
      ],
      "execution_count": null,
      "outputs": [
        {
          "output_type": "stream",
          "text": [
            "Downloading gtsrb-german-traffic-sign.zip to /content\n",
            " 98% 600M/612M [00:04<00:00, 137MB/s]\n",
            "100% 612M/612M [00:04<00:00, 138MB/s]\n"
          ],
          "name": "stdout"
        }
      ]
    },
    {
      "cell_type": "code",
      "metadata": {
        "id": "6rdoKQ3gLpK0"
      },
      "source": [
        "!unzip gtsrb-german-traffic-sign.zip"
      ],
      "execution_count": null,
      "outputs": []
    },
    {
      "cell_type": "code",
      "metadata": {
        "id": "vq2ZFvG4Lvn9"
      },
      "source": [
        "import pandas as pd\n",
        "import numpy as np\n",
        "from PIL import Image"
      ],
      "execution_count": null,
      "outputs": []
    },
    {
      "cell_type": "code",
      "metadata": {
        "id": "FEFI--8IL7Ej"
      },
      "source": [
        "train_df = pd.read_csv('Train.csv')"
      ],
      "execution_count": null,
      "outputs": []
    },
    {
      "cell_type": "code",
      "metadata": {
        "colab": {
          "base_uri": "https://localhost:8080/"
        },
        "id": "_LW38XrtL-qB",
        "outputId": "2166e103-3d76-487d-bb98-6d241e34548f"
      },
      "source": [
        "train_df.shape"
      ],
      "execution_count": null,
      "outputs": [
        {
          "output_type": "execute_result",
          "data": {
            "text/plain": [
              "(39209, 8)"
            ]
          },
          "metadata": {
            "tags": []
          },
          "execution_count": 5
        }
      ]
    },
    {
      "cell_type": "code",
      "metadata": {
        "colab": {
          "base_uri": "https://localhost:8080/",
          "height": 206
        },
        "id": "SpdPGv0WMAuM",
        "outputId": "d04d83d8-735e-42fc-8fe3-635cafbdbfe2"
      },
      "source": [
        "train_df.head()"
      ],
      "execution_count": null,
      "outputs": [
        {
          "output_type": "execute_result",
          "data": {
            "text/html": [
              "<div>\n",
              "<style scoped>\n",
              "    .dataframe tbody tr th:only-of-type {\n",
              "        vertical-align: middle;\n",
              "    }\n",
              "\n",
              "    .dataframe tbody tr th {\n",
              "        vertical-align: top;\n",
              "    }\n",
              "\n",
              "    .dataframe thead th {\n",
              "        text-align: right;\n",
              "    }\n",
              "</style>\n",
              "<table border=\"1\" class=\"dataframe\">\n",
              "  <thead>\n",
              "    <tr style=\"text-align: right;\">\n",
              "      <th></th>\n",
              "      <th>Width</th>\n",
              "      <th>Height</th>\n",
              "      <th>Roi.X1</th>\n",
              "      <th>Roi.Y1</th>\n",
              "      <th>Roi.X2</th>\n",
              "      <th>Roi.Y2</th>\n",
              "      <th>ClassId</th>\n",
              "      <th>Path</th>\n",
              "    </tr>\n",
              "  </thead>\n",
              "  <tbody>\n",
              "    <tr>\n",
              "      <th>0</th>\n",
              "      <td>27</td>\n",
              "      <td>26</td>\n",
              "      <td>5</td>\n",
              "      <td>5</td>\n",
              "      <td>22</td>\n",
              "      <td>20</td>\n",
              "      <td>20</td>\n",
              "      <td>Train/20/00020_00000_00000.png</td>\n",
              "    </tr>\n",
              "    <tr>\n",
              "      <th>1</th>\n",
              "      <td>28</td>\n",
              "      <td>27</td>\n",
              "      <td>5</td>\n",
              "      <td>6</td>\n",
              "      <td>23</td>\n",
              "      <td>22</td>\n",
              "      <td>20</td>\n",
              "      <td>Train/20/00020_00000_00001.png</td>\n",
              "    </tr>\n",
              "    <tr>\n",
              "      <th>2</th>\n",
              "      <td>29</td>\n",
              "      <td>26</td>\n",
              "      <td>6</td>\n",
              "      <td>5</td>\n",
              "      <td>24</td>\n",
              "      <td>21</td>\n",
              "      <td>20</td>\n",
              "      <td>Train/20/00020_00000_00002.png</td>\n",
              "    </tr>\n",
              "    <tr>\n",
              "      <th>3</th>\n",
              "      <td>28</td>\n",
              "      <td>27</td>\n",
              "      <td>5</td>\n",
              "      <td>6</td>\n",
              "      <td>23</td>\n",
              "      <td>22</td>\n",
              "      <td>20</td>\n",
              "      <td>Train/20/00020_00000_00003.png</td>\n",
              "    </tr>\n",
              "    <tr>\n",
              "      <th>4</th>\n",
              "      <td>28</td>\n",
              "      <td>26</td>\n",
              "      <td>5</td>\n",
              "      <td>5</td>\n",
              "      <td>23</td>\n",
              "      <td>21</td>\n",
              "      <td>20</td>\n",
              "      <td>Train/20/00020_00000_00004.png</td>\n",
              "    </tr>\n",
              "  </tbody>\n",
              "</table>\n",
              "</div>"
            ],
            "text/plain": [
              "   Width  Height  Roi.X1  ...  Roi.Y2  ClassId                            Path\n",
              "0     27      26       5  ...      20       20  Train/20/00020_00000_00000.png\n",
              "1     28      27       5  ...      22       20  Train/20/00020_00000_00001.png\n",
              "2     29      26       6  ...      21       20  Train/20/00020_00000_00002.png\n",
              "3     28      27       5  ...      22       20  Train/20/00020_00000_00003.png\n",
              "4     28      26       5  ...      21       20  Train/20/00020_00000_00004.png\n",
              "\n",
              "[5 rows x 8 columns]"
            ]
          },
          "metadata": {
            "tags": []
          },
          "execution_count": 6
        }
      ]
    },
    {
      "cell_type": "code",
      "metadata": {
        "id": "GpqpsgXnMDI-"
      },
      "source": [
        "def load_data(df):\n",
        "  images = []\n",
        "  labels = []\n",
        "\n",
        "  for i in range(len(df)):\n",
        "    img = Image.open(df['Path'].iloc[i])\n",
        "    img = img.resize((28,28))\n",
        "    images.append(np.array(img))\n",
        "    labels.append(df['ClassId'].iloc[i])\n",
        "\n",
        "  return images, labels"
      ],
      "execution_count": null,
      "outputs": []
    },
    {
      "cell_type": "code",
      "metadata": {
        "id": "KI0xAZV_MxLv"
      },
      "source": [
        "train_images, train_labels = load_data(train_df)"
      ],
      "execution_count": null,
      "outputs": []
    },
    {
      "cell_type": "code",
      "metadata": {
        "id": "VbwSUKnJNIk4"
      },
      "source": [
        "test_df = pd.read_csv('Test.csv')\n",
        "test_images, test_labels = load_data(test_df)"
      ],
      "execution_count": null,
      "outputs": []
    },
    {
      "cell_type": "code",
      "metadata": {
        "id": "M16C4auGNPsM"
      },
      "source": [
        "x_train = np.asarray(train_images)\n",
        "x_test = np.asarray(test_images)"
      ],
      "execution_count": null,
      "outputs": []
    },
    {
      "cell_type": "code",
      "metadata": {
        "colab": {
          "base_uri": "https://localhost:8080/"
        },
        "id": "CI8w2MSMNY02",
        "outputId": "b1bf6197-0124-4d01-c4a0-8c471ef4977d"
      },
      "source": [
        "x_train.shape"
      ],
      "execution_count": null,
      "outputs": [
        {
          "output_type": "execute_result",
          "data": {
            "text/plain": [
              "(39209, 28, 28, 3)"
            ]
          },
          "metadata": {
            "tags": []
          },
          "execution_count": 11
        }
      ]
    },
    {
      "cell_type": "code",
      "metadata": {
        "colab": {
          "base_uri": "https://localhost:8080/"
        },
        "id": "UzvN27PxNaO0",
        "outputId": "49ab1d8b-31d2-4ec2-fcff-322fe6f95013"
      },
      "source": [
        "x_test.shape"
      ],
      "execution_count": null,
      "outputs": [
        {
          "output_type": "execute_result",
          "data": {
            "text/plain": [
              "(12630, 28, 28, 3)"
            ]
          },
          "metadata": {
            "tags": []
          },
          "execution_count": 12
        }
      ]
    },
    {
      "cell_type": "code",
      "metadata": {
        "colab": {
          "base_uri": "https://localhost:8080/",
          "height": 283
        },
        "id": "MFh3nr5SNa4c",
        "outputId": "0ca4321a-32ba-43f3-9ebb-4cc20285f3ca"
      },
      "source": [
        "import matplotlib.pyplot as plt\n",
        "plt.imshow(x_train[2000])"
      ],
      "execution_count": null,
      "outputs": [
        {
          "output_type": "execute_result",
          "data": {
            "text/plain": [
              "<matplotlib.image.AxesImage at 0x7f90f6bae310>"
            ]
          },
          "metadata": {
            "tags": []
          },
          "execution_count": 13
        },
        {
          "output_type": "display_data",
          "data": {
            "image/png": "[encoded data removed]",
            "text/plain": [
              "<Figure size 432x288 with 1 Axes>"
            ]
          },
          "metadata": {
            "tags": [],
            "needs_background": "light"
          }
        }
      ]
    },
    {
      "cell_type": "code",
      "metadata": {
        "id": "6yb-buIWNf6Y"
      },
      "source": [
        "from sklearn.preprocessing import OneHotEncoder"
      ],
      "execution_count": null,
      "outputs": []
    },
    {
      "cell_type": "code",
      "metadata": {
        "id": "JlXjzd88NwXI"
      },
      "source": [
        "train_labels = np.reshape(train_labels, (-1,1))\n",
        "encoder = OneHotEncoder()\n",
        "y_train = encoder.fit_transform(train_labels).toarray()"
      ],
      "execution_count": null,
      "outputs": []
    },
    {
      "cell_type": "code",
      "metadata": {
        "colab": {
          "base_uri": "https://localhost:8080/"
        },
        "id": "H_lkFwXUN7sp",
        "outputId": "8604c3ed-da27-4b69-cffb-11b1216e4f14"
      },
      "source": [
        "y_train[0]"
      ],
      "execution_count": null,
      "outputs": [
        {
          "output_type": "execute_result",
          "data": {
            "text/plain": [
              "array([0., 0., 0., 0., 0., 0., 0., 0., 0., 0., 0., 0., 0., 0., 0., 0., 0.,\n",
              "       0., 0., 0., 1., 0., 0., 0., 0., 0., 0., 0., 0., 0., 0., 0., 0., 0.,\n",
              "       0., 0., 0., 0., 0., 0., 0., 0., 0.])"
            ]
          },
          "metadata": {
            "tags": []
          },
          "execution_count": 16
        }
      ]
    },
    {
      "cell_type": "code",
      "metadata": {
        "id": "NK-fIbzoN9fk"
      },
      "source": [
        "x_train, x_test = x_train/255.0, x_test/255.0"
      ],
      "execution_count": null,
      "outputs": []
    },
    {
      "cell_type": "code",
      "metadata": {
        "id": "4DiWU9CGOBOC"
      },
      "source": [
        "import tensorflow as tf\n",
        "from tensorflow.keras.layers import Dense, Flatten, Conv2D, MaxPooling2D\n",
        "from tensorflow.keras.models import Model"
      ],
      "execution_count": null,
      "outputs": []
    },
    {
      "cell_type": "code",
      "metadata": {
        "id": "nB4h-nTAOeVl"
      },
      "source": [
        "train_df = tf.data.Dataset.from_tensor_slices((x_train, y_train)).shuffle(10000).batch(32)\n",
        "test_df = tf.data.Dataset.from_tensor_slices((x_test, test_labels)).shuffle(10000).batch(32)"
      ],
      "execution_count": null,
      "outputs": []
    },
    {
      "cell_type": "code",
      "metadata": {
        "id": "aIoMtu-YO1IT"
      },
      "source": [
        "class MyModel(Model):\n",
        "  def __init__(self):\n",
        "    super().__init__()\n",
        "    self.conv1 = Conv2D(32,3,padding='same', activation='relu')\n",
        "    self.pool1 = MaxPooling2D((2,2))\n",
        "    self.conv2 = Conv2D(64,3,padding='same', activation='relu')\n",
        "    self.pool2 = MaxPooling2D((2,2))\n",
        "    self.flatten = Flatten()\n",
        "    self.dense1 = Dense(256, activation='relu')\n",
        "    self.dense2 = Dense(128, activation='relu')\n",
        "    self.dense3 = Dense(43, activation=\"softmax\")\n",
        "\n",
        "  def call(self, x):\n",
        "    x = self.conv1(x)\n",
        "    x = self.pool1(x)\n",
        "    x = self.conv2(x)\n",
        "    x = self.pool2(x)\n",
        "    x = self.flatten(x)\n",
        "    x = self.dense1(x)\n",
        "    x = self.dense2(x)\n",
        "    x = self.dense3(x)\n",
        "    return x"
      ],
      "execution_count": null,
      "outputs": []
    },
    {
      "cell_type": "code",
      "metadata": {
        "id": "3T7fJk7oO89E"
      },
      "source": [
        "model = MyModel()"
      ],
      "execution_count": null,
      "outputs": []
    },
    {
      "cell_type": "code",
      "metadata": {
        "id": "WKC7g_85aQKm"
      },
      "source": [
        "loss_object = tf.keras.losses.CategoricalCrossentropy()\n",
        "optimizer = tf.keras.optimizers.Adam()\n",
        "train_loss = tf.keras.metrics.Mean(name='train_loss')\n",
        "train_acc = tf.keras.metrics.CategoricalAccuracy(name = 'train_acc')"
      ],
      "execution_count": null,
      "outputs": []
    },
    {
      "cell_type": "code",
      "metadata": {
        "id": "2LScKd9xafE2"
      },
      "source": [
        "@tf.function\n",
        "def train_step(images, labels):\n",
        "  with tf.GradientTape() as tape:\n",
        "    predictions = model(images)\n",
        "    loss = loss_object(labels, predictions)\n",
        "  gradients = tape.gradient(loss, model.trainable_variables)\n",
        "  optimizer.apply_gradients((zip(gradients, model.trainable_variables)))\n",
        "\n",
        "  train_loss(loss)\n",
        "  train_acc(labels, predictions)"
      ],
      "execution_count": null,
      "outputs": []
    },
    {
      "cell_type": "code",
      "metadata": {
        "colab": {
          "base_uri": "https://localhost:8080/"
        },
        "id": "Nb9Wka3ucqDF",
        "outputId": "94cf2ff7-3368-4c42-8d6f-70155abbd4e8"
      },
      "source": [
        "epochs = 5\n",
        "for epoch in range(epochs):\n",
        "  for images, labels in train_df:\n",
        "    train_step(images, labels)\n",
        "  \n",
        "  model.save_weights('/content', save_format='tf')\n",
        "\n",
        "  print(\"Epochs : \",epoch, \"Loss :\",train_loss.result(), \"Accuracy :\",train_acc.result())\n",
        "  train_loss.reset_states()\n",
        "  train_acc.reset_states()"
      ],
      "execution_count": null,
      "outputs": [
        {
          "output_type": "stream",
          "text": [
            "Epochs :  0 Loss : tf.Tensor(0.9465075, shape=(), dtype=float32) Accuracy : tf.Tensor(0.72465503, shape=(), dtype=float32)\n",
            "Epochs :  1 Loss : tf.Tensor(0.11350985, shape=(), dtype=float32) Accuracy : tf.Tensor(0.9678645, shape=(), dtype=float32)\n",
            "Epochs :  2 Loss : tf.Tensor(0.051563516, shape=(), dtype=float32) Accuracy : tf.Tensor(0.9850035, shape=(), dtype=float32)\n",
            "Epochs :  3 Loss : tf.Tensor(0.031677898, shape=(), dtype=float32) Accuracy : tf.Tensor(0.9907419, shape=(), dtype=float32)\n",
            "Epochs :  4 Loss : tf.Tensor(0.025222003, shape=(), dtype=float32) Accuracy : tf.Tensor(0.9919661, shape=(), dtype=float32)\n"
          ],
          "name": "stdout"
        }
      ]
    },
    {
      "cell_type": "code",
      "metadata": {
        "id": "4yKbjpuMdE5w"
      },
      "source": [
        ""
      ],
      "execution_count": null,
      "outputs": []
    }
  ]
}
