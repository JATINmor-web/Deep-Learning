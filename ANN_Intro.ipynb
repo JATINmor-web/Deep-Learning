
{
 "cells": [
  {
   "cell_type": "code",
   "execution_count": 21,
   "metadata": {},
   "outputs": [],
   "source": [
    "import numpy as np"
   ]
  },
  {
   "cell_type": "code",
   "execution_count": 22,
   "metadata": {},
   "outputs": [],
   "source": [
    "X = np.array([[1,0,1,0], [1,0,1,1], [0,1,0,1]])\n",
    "y = np.array([[1],[1],[0]])"
   ]
  },
  {
   "cell_type": "code",
   "execution_count": 23,
   "metadata": {},
   "outputs": [
    {
     "data": {
      "text/plain": [
       "array([[1, 0, 1, 0],\n",
       "       [1, 0, 1, 1],\n",
       "       [0, 1, 0, 1]])"
      ]
     },
     "execution_count": 23,
     "metadata": {},
     "output_type": "execute_result"
    }
   ],
   "source": [
    "X"
   ]
  },
  {
   "cell_type": "code",
   "execution_count": 24,
   "metadata": {},
   "outputs": [
    {
     "data": {
      "text/plain": [
       "array([[1],\n",
       "       [1],\n",
       "       [0]])"
      ]
     },
     "execution_count": 24,
     "metadata": {},
     "output_type": "execute_result"
    }
   ],
   "source": [
    "y"
   ]
  },
  {
   "cell_type": "code",
   "execution_count": 25,
   "metadata": {},
   "outputs": [],
   "source": [
    "def sigmoid(x):\n",
    "    return 1 / (1 + np.exp(-x))"
   ]
  },
  {
   "cell_type": "code",
   "execution_count": 26,
   "metadata": {},
   "outputs": [],
   "source": [
    "def derivativeSigmoid(x):\n",
    "    return x * (1 - x)"
   ]
  },
  {
   "cell_type": "code",
   "execution_count": 38,
   "metadata": {},
   "outputs": [],
   "source": [
    "inputLayer = X.shape[1]\n",
    "hiddenLayer = 3\n",
    "outputLayer = 1"
   ]
  },
  {
   "cell_type": "code",
   "execution_count": 39,
   "metadata": {},
   "outputs": [],
   "source": [
    "epochs = 50000\n",
    "alpha = 0.01"
   ]
  },
  {
   "cell_type": "code",
   "execution_count": 40,
   "metadata": {},
   "outputs": [],
   "source": [
    "wh = np.random.uniform(size=(inputLayer, hiddenLayer))\n",
    "bh = np.random.uniform(size=(1, hiddenLayer))\n",
    "wout = np.random.uniform(size=(hiddenLayer, outputLayer))\n",
    "bout = np.random.uniform(size=(1, outputLayer))"
   ]
  },
  {
   "cell_type": "code",
   "execution_count": 41,
   "metadata": {},
   "outputs": [],
   "source": [
    "for i in range(epochs):\n",
    "    # feedforward\n",
    "    f_x = np.dot(X, wh) + bh\n",
    "    z1 = sigmoid(f_x)\n",
    "    f1_x = np.dot(z1, wout) + bout\n",
    "    output = sigmoid(f1_x)\n",
    "    \n",
    "    # backpropagation\n",
    "    errorOutputLayer = y - output\n",
    "    slopeOutputLayer = derivativeSigmoid(output)\n",
    "    deltaOutputLayer = errorOutputLayer * slopeOutputLayer\n",
    "    \n",
    "    errorHiddenLayer = deltaOutputLayer.dot(wout.T)\n",
    "    slopeHiddenLayer = derivativeSigmoid(z1)\n",
    "    deltaHiddenLayer = errorHiddenLayer * slopeHiddenLayer\n",
    "    \n",
    "    wout += z1.T.dot(deltaOutputLayer) * alpha\n",
    "    bout += np.sum(deltaOutputLayer) * alpha\n",
    "    wh += X.T.dot(deltaHiddenLayer) * alpha\n",
    "    bh += np.sum(deltaHiddenLayer) * alpha"
   ]
  },
  {
   "cell_type": "code",
   "execution_count": 42,
   "metadata": {},
   "outputs": [
    {
     "data": {
      "text/plain": [
       "array([[0.97969127],\n",
       "       [0.97106787],\n",
       "       [0.0381032 ]])"
      ]
     },
     "execution_count": 42,
     "metadata": {},
     "output_type": "execute_result"
    }
   ],
   "source": [
    "output"
   ]
  },
  {
   "cell_type": "code",
   "execution_count": null,
   "metadata": {},
   "outputs": [],
   "source": []
  }
 ],
 "metadata": {
  "kernelspec": {
   "display_name": "Python 3",
   "language": "python",
   "name": "python3"
  },
  "language_info": {
   "codemirror_mode": {
    "name": "ipython",
    "version": 3
   },
   "file_extension": ".py",
   "mimetype": "text/x-python",
   "name": "python",
   "nbconvert_exporter": "python",
   "pygments_lexer": "ipython3",
   "version": "3.8.5"
  }
 },
 "nbformat": 4,
 "nbformat_minor": 4
}
